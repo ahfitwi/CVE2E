{
 "cells": [
  {
   "cell_type": "markdown",
   "metadata": {},
   "source": [
    "<font color='red'>                      **CV Compiled: By Alem Fitwi, August 2017 to Date**</font>"
   ]
  },
  {
   "cell_type": "markdown",
   "metadata": {},
   "source": [
    "## <div class=\"alert alert-info\"> Packages"
   ]
  },
  {
   "cell_type": "code",
   "execution_count": 55,
   "metadata": {},
   "outputs": [],
   "source": [
    "import os\n",
    "import re\n",
    "import gc\n",
    "import sys\n",
    "\n",
    "import numpy as np\n",
    "import pandas as pd\n",
    "\n",
    "import matplotlib.pyplot as plt\n"
   ]
  },
  {
   "cell_type": "code",
   "execution_count": 29,
   "metadata": {},
   "outputs": [],
   "source": [
    "def showimg(img, title='', color=None, sp=False, cmap='gray', sq=False):\n",
    "    plt.imshow(img, cmap=cmap)\n",
    "    if not isinstance(sp, bool):\n",
    "        plt.savefig(sp, \n",
    "                    dpi=300,\n",
    "                    papertype='ledger',\n",
    "                    formt='.png',\n",
    "                    facecolor=color,\n",
    "                    edgecolor='black',\n",
    "                    orientation='landscape',\n",
    "                    bbox_inches='tight',\n",
    "                    pad_inches=0,\n",
    "                    transparent=False,\n",
    "                    frameon=None, \n",
    "                    metadata=None                   \n",
    "                    \n",
    "                   )\n",
    "    if sq:\n",
    "        plt.close('all')\n",
    "    else:\n",
    "        plt.show()\n",
    "    "
   ]
  },
  {
   "cell_type": "code",
   "execution_count": 53,
   "metadata": {},
   "outputs": [
    {
     "data": {
      "image/png": "[encoded data removed]",
      "text/plain": [
       "<Figure size 640x480 with 1 Axes>"
      ]
     },
     "metadata": {},
     "output_type": "display_data"
    }
   ],
   "source": [
    "img = np.zeros((64, 64, 3), np.uint8)\n",
    "xc, yc = 32, 32\n",
    "img[yc-10:yc+10, xc-1:xc]=255\n",
    "img[yc-1:yc, xc-10:xc+10]=255\n",
    "\n",
    "img[yc-15:yc-14, xc-15:xc+15]=255\n",
    "img[yc+14:yc+15, xc-15:xc+15]=255\n",
    "img[yc-15:yc+15, xc-15:xc-14]=255\n",
    "img[yc-15:yc+15, xc+14:xc+15]=255\n",
    "showimg(img)"
   ]
  },
  {
   "cell_type": "code",
   "execution_count": null,
   "metadata": {},
   "outputs": [],
   "source": []
  },
  {
   "cell_type": "code",
   "execution_count": null,
   "metadata": {},
   "outputs": [],
   "source": []
  },
  {
   "cell_type": "markdown",
   "metadata": {},
   "source": [
    "## <div class=\"alert alert-info\"> I/O"
   ]
  },
  {
   "cell_type": "markdown",
   "metadata": {},
   "source": [
    "<div class=\"alert alert-info\">"
   ]
  },
  {
   "cell_type": "code",
   "execution_count": null,
   "metadata": {},
   "outputs": [],
   "source": [
    "<div class=\"alert alert-info\">"
   ]
  },
  {
   "cell_type": "code",
   "execution_count": null,
   "metadata": {},
   "outputs": [],
   "source": [
    "<div class=\"alert alert-info\">"
   ]
  },
  {
   "cell_type": "code",
   "execution_count": null,
   "metadata": {},
   "outputs": [],
   "source": [
    "<div class=\"alert alert-info\">"
   ]
  }
 ],
 "metadata": {
  "kernelspec": {
   "display_name": "Python [conda env:base] *",
   "language": "python",
   "name": "conda-base-py"
  },
  "language_info": {
   "codemirror_mode": {
    "name": "ipython",
    "version": 3
   },
   "file_extension": ".py",
   "mimetype": "text/x-python",
   "name": "python",
   "nbconvert_exporter": "python",
   "pygments_lexer": "ipython3",
   "version": "3.12.7"
  }
 },
 "nbformat": 4,
 "nbformat_minor": 4
}
